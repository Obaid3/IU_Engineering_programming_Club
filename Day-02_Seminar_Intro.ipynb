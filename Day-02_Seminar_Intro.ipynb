{
 "cells": [
  {
   "cell_type": "markdown",
   "id": "33f888c2-7e40-443f-83ba-9c8742157a25",
   "metadata": {},
   "source": [
    "# Preparing your 3MT presentation\n"
   ]
  },
  {
   "cell_type": "markdown",
   "id": "57923168-1c35-4b1c-891b-f07039e1ee6a",
   "metadata": {},
   "source": [
    "## Write for your audience\n",
    "The judges will look for evidence that you can explain your research to a non-specialist audience. You may like to:\n",
    "\n",
    "- avoid jargon and academic language\n",
    "- explain concepts and people important to your research - you may know all about Professor Smith’s theories, but your audience may not\n",
    "- highlight the outcomes of your research, and the desired outcome\n",
    "- Imagine that you are explaining your research to a close friend or fellow student from another field\n",
    "- Convey your excitement and enthusiasm for your subject"
   ]
  },
  {
   "cell_type": "markdown",
   "id": "5548419f-e472-45c6-a939-1166290ec156",
   "metadata": {},
   "source": [
    "## You may like to consider some of the following suggestions:\n",
    "\n",
    "- Less is more: text and complicated graphics can distract your audience – you don’t want them to read your slide instead of listening to your 3MT. \n",
    "- Personal touches: personal touches can allow your audience to understand the impact of your research.\n",
    "- Creativity drives interest: do not rely on your slide to convey your message – it should simply complement your oration.\n",
    "- Work your message: think about how your slide might be able to assist with the format and delivery of your presentation – is there a metaphor that helps explain your research?\n",
    "- An engaging visual presentation can make or break any oration, so make sure your slide is legible, clear and concise."
   ]
  },
  {
   "cell_type": "markdown",
   "id": "e7045d91-c33e-4231-80a8-1e90f13566e7",
   "metadata": {},
   "source": [
    "## Record yourself\n",
    "\n",
    "- Record and listen to your presentation to hear where you pause, speak too quickly or get it just right.\n",
    "- Then work on your weaknesses and exploit your strengths.\n",
    "- After you are done submit upload the recorded presentation and share the link\n"
   ]
  },
  {
   "cell_type": "code",
   "execution_count": null,
   "id": "63064c5e-fc18-4a63-b913-5f44cd3e8932",
   "metadata": {},
   "outputs": [],
   "source": []
  }
 ],
 "metadata": {
  "kernelspec": {
   "display_name": "Python [conda env:base] *",
   "language": "python",
   "name": "conda-base-py"
  },
  "language_info": {
   "codemirror_mode": {
    "name": "ipython",
    "version": 3
   },
   "file_extension": ".py",
   "mimetype": "text/x-python",
   "name": "python",
   "nbconvert_exporter": "python",
   "pygments_lexer": "ipython3",
   "version": "3.12.7"
  }
 },
 "nbformat": 4,
 "nbformat_minor": 5
}
