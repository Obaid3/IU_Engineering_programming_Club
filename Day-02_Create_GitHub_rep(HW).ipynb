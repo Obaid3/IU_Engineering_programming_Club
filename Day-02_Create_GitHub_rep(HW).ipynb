{
 "cells": [
  {
   "cell_type": "markdown",
   "id": "7d114db1-da5c-4885-b0d5-3782cc5be349",
   "metadata": {},
   "source": [
    "----\n",
    "<a id=\"git\"></a>\n",
    "# ___Introduction to Git___\n",
    "\n",
    "<img src=\"https://upload.wikimedia.org/wikipedia/commons/thumb/e/e0/Git-logo.svg/512px-Git-logo.svg.png?20160811101906\" width=\"10%\" alt=\"Git logo\">"
   ]
  },
  {
   "cell_type": "markdown",
   "id": "bb964eeb-c768-410b-96c4-b3f13ee897f0",
   "metadata": {},
   "source": [
    "## What is Git and why?\n",
    "\n",
    "[Git](https://git-scm.com/) is the most widely used modern version control system in software industry and academia. Together with websites like [GitHub](https://github.com/) or [GitLab](https://gitlab.msu.edu/), you can work on your project files anywhere with anyone with changes tracked so you can go back to earlier versions should there be issues and avoid conflicts.\n",
    "\n",
    "We will use GitHub in this class beause it has a much larger userbase and is fully integrated with VS Code. If you are interested in learning more, [here is an article discussing their simialrities and differences](https://www.zdnet.com/article/github-vs-gitlab-the-key-differences/) (optional). "
   ]
  },
  {
   "cell_type": "markdown",
   "id": "f3b22f86-5436-4a4a-ba96-c5ac78d9da80",
   "metadata": {},
   "source": [
    "## Set up GitHub\n",
    "\n",
    "&#9989;<font color=blue>**DO THIS:**</font> Create a GitHub account\n",
    "\n",
    "1. Go to the [GitHub website](https://github.com/join) and join with an email address of your choosing. \n",
    "2. When you log in, it may ask you to created a password for accessing repositories via HTTPS, you should do this for the purposes of being able to push (think of it as upload) and pull (like download) repositories (Git-speak for folders)."
   ]
  },
  {
   "cell_type": "markdown",
   "id": "ac76f043-f365-4c20-aa3b-005f38804ba5",
   "metadata": {},
   "source": [
    "## Create a repository in the Github website\n",
    "\n",
    "Next, you will create a repository (repo in short) for this class. This repo will be the place where you place the exercise and report files throughout the semester.\n",
    "\n",
    "&#9989;<font color=blue>**DO THIS:**</font> Create a `cmse802-yourlastname` repository\n",
    "\n",
    "1. If you are not logged into GitHub through your browser, login now.\n",
    "1. At the GitHub Dashboard\n",
    "   - Find and click `New` on the left hand side of the page under your account name.\n",
    "1. In the `Create a new repository` page:\n",
    "   - Set `Repository name` as `IU-Engineering-Programming-Club-your_ID`. \n",
    "   - Here `yourlastname` is __Your_ID.\n",
    "   - Set this repo to be `Private`.\n",
    "1. Click `Add a README file`. \n",
    "1. Click `Add .gitignore` and select `Python`. \n",
    "   - This will allow you to ignore certain temporary Python files.\n",
    "1. Click `Choose a license` and select a license you like.\n",
    "1. Click `Create repository`.\n",
    "\n",
    "You can also create a repo through VS Code:\n",
    "- We will not be going into this in class,\n",
    "- Check out [this tutorial](https://dev.to/n3wt0n/create-a-new-github-repo-in-1-click-vscode-29ae) by Davide 'CoderDave' Benvegnù if you'd like to learn more."
   ]
  },
  {
   "cell_type": "markdown",
   "id": "272c8fa0-16a7-4381-a94d-c27249fede26",
   "metadata": {},
   "source": [
    "## Add members to your repo\n",
    "\n",
    "&#9989;<font color=blue>**DO THIS:**</font> In this club, you will submit exercises through the repository you just created. We will grade your exercises in the repository so you need to give the instruction team access to it.\n",
    "\n",
    "1. Once created, you will be in your new repo.\n",
    "2. Click `...` on the right side of the page right under your avatar, select `Settings`.\n",
    "3. In the `General` settings page, click `Collaborators` in the menu on the left.\n",
    "4. Click `Add people`:\n",
    "   - Type `obaidallah.elshafiey0@gmai.com`, select and click `Add...`\n",
    "     ...`"
   ]
  },
  {
   "cell_type": "markdown",
   "id": "bce7e5f9-8b76-4b20-a98a-1bb5f1931b02",
   "metadata": {},
   "source": [
    "## Uploading your code to your repo\n",
    "\n",
    "&#9989;<font color=blue>**DO THIS:**</font> you can upload your notebooks to your repo \n",
    "\n",
    "1. Open your repo\n",
    "2. look for a \"+\" sign or \"add files option\n",
    "3. press \"add files\" followed  by \" upload files\"\n",
    "4. simply drag and drop your code  "
   ]
  },
  {
   "cell_type": "code",
   "execution_count": null,
   "id": "90e877f7-9183-4a0e-ac4d-b87bde5bcc30",
   "metadata": {},
   "outputs": [],
   "source": []
  }
 ],
 "metadata": {
  "kernelspec": {
   "display_name": "Python [conda env:base] *",
   "language": "python",
   "name": "conda-base-py"
  },
  "language_info": {
   "codemirror_mode": {
    "name": "ipython",
    "version": 3
   },
   "file_extension": ".py",
   "mimetype": "text/x-python",
   "name": "python",
   "nbconvert_exporter": "python",
   "pygments_lexer": "ipython3",
   "version": "3.12.7"
  }
 },
 "nbformat": 4,
 "nbformat_minor": 5
}
