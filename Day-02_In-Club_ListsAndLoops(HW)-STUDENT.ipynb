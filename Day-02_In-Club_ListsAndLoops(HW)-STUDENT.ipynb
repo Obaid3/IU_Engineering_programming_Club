{
 "cells": [
  {
   "cell_type": "code",
   "execution_count": null,
   "metadata": {},
   "outputs": [],
   "source": []
  },
  {
   "cell_type": "markdown",
   "metadata": {},
   "source": [
    "### <p style=\"text-align: right;\"> &#9989; Put your name here.\n",
    "<p style=\"text-align: right;\"> &#9989; Put your group member names here."
   ]
  },
  {
   "cell_type": "markdown",
   "metadata": {},
   "source": [
    "# Day 2 In-Club Assignment: Computing projectile impact time\n"
   ]
  },
  {
   "cell_type": "markdown",
   "metadata": {},
   "source": [
    "## Learning Goals:\n",
    "\n",
    "By the end of this assignment you should be able to:\n",
    "\n",
    "* Use Python lists to stored values\n",
    "* Use loops to iterate over a specified range or until a condition is met.\n",
    "* Compute the impact time of a baseball thrown at a variety of speeds.\n"
   ]
  },
  {
   "cell_type": "markdown",
   "metadata": {},
   "source": [
    "---\n",
    "## The Problem\n",
    "\n",
    "You recently attended a ball game game and started thinking about some of the mechanics of throwing a ball and whether or not you might be able to build a computational model to predict exact when a baseball will hit the ground based on the velocity it is throw with. For this problem, **you will assume that the ball is throw directly upward**. Since you're not sure exactly how fast you can actuall throw a baseball, **you're you going to compute several impacts times based on a range of initial baseball velocities**."
   ]
  },
  {
   "cell_type": "code",
   "execution_count": null,
   "metadata": {},
   "outputs": [],
   "source": []
  },
  {
   "cell_type": "markdown",
   "metadata": {},
   "source": [
    "### The math behind the model\n",
    "\n",
    "Now that you have a plan, you need to do a bit of digging to figure out how to compute the amount of time the baseball spends in the air based on the speed you launch it with. You spend a bit of time searching around on the internet, including Wikipedia, and you find that the important equation of motion is this:\n",
    "\n",
    "$$h(t) = h_0 + v_0t - \\frac{1}{2}gt^2$$\n",
    "\n",
    "where $h$ is the height of the ball as a function of time, $h_0$ is the initial height that the ball is launched from, $v_0$ is the initial speed the ball is launched with, $g$ is the acceleration due to gravity, and $t$ is the time in seconds. \n",
    "\n",
    "You give it some further thought and realize what you want to know is when will the ball land, so **when does $h(t)=0$?**\n",
    "\n",
    "You know that the initial height that the ball is launched from, $h_0$, is roughly your height since you'll be throwing it, which we'll approximate as **1.75 meters**.\n",
    "\n",
    "You also recall that at some point you learned that the **acceleration due to gravity is 9.8 m/s$^2$**\n",
    "\n",
    "This means that all you need to do is **calculate the value of $t$ based on a range of initial values for the speed of the ball, $v_0$**.\n",
    "\n",
    "#### Potentially useful information:\n",
    "\n",
    "It might have been a while since you've see an equation that looks like the one above. It turns out that when $h(t)=0$, it's a **quadratic equation**, which looks something like:\n",
    "\n",
    "$$at^2 + bt + c = 0$$\n",
    "\n",
    "and, if you recall, the solution to this equation is given by:\n",
    "\n",
    "$$t = \\frac{-b~\\pm~\\sqrt{b^2~-~4ac}}{2a}$$"
   ]
  },
  {
   "cell_type": "markdown",
   "metadata": {},
   "source": [
    "---\n",
    "## Part 1: Planning your solution and pseudo-coding\n",
    "\n",
    "In general, before you start writing any code, it's good to get into the habit of coming up with a plan for how you've going to solve the problem. During this phase it is important to identify and define the variables that are revelant to the problem, the equations you're going to need to solve, and the overall structure of the program that you will write to solve the problem.\n",
    "\n",
    "To get some practice with this, you and your groups members are expected to **use paper** to come up with a plan for computing the impact time of the ball you're planning on throwing. Part of this planning process should involve a bit of what we commonly refer to as \"pseudo-code\". Pseudo-code is writing or text that follows the programmatic style of real code but doesn't necessarily have all of the proper syntax. You can think of it as an outline for how your program *should* work, before you actually start to code it up.\n",
    "\n",
    "Things you should decide on during your planning and psuedo-coding:\n",
    "\n",
    "1. What variables are important for solving this problem?\n",
    "2. What are the right initial values for these variables?\n",
    "3. What is a reasonable range for the ball speeds you're going to explore?\n",
    "4. How will you go about solving for multiple impact times?\n",
    "5. How many impact times do you plan to compute?\n",
    "6. How will you store your ball speeds and corresponding impacts times?\n",
    "\n",
    "Not only should you come up with answers to these questions and a plan for you code, but you should be able to defend your choices!\n",
    "\n",
    "**Record the details of you plan in the Markdown cell below.**"
   ]
  },
  {
   "cell_type": "markdown",
   "metadata": {},
   "source": [
    "*Put your plan details here!* "
   ]
  },
  {
   "cell_type": "markdown",
   "metadata": {},
   "source": [
    "---\n",
    "### &#128721; STOP\n",
    "Develop your schematics before contuning to code\n",
    "\n",
    "---"
   ]
  },
  {
   "cell_type": "markdown",
   "metadata": {},
   "source": [
    "---\n",
    "## Part 2: Coding up your solution\n",
    "\n",
    "Now that you and your group have come up with a plan for your code, it's time to put your plan into action. Your code should do the following:\n",
    "\n",
    "1. Compute impact times for a range of initial speeds. You are free to choose the range of initial speeds (the number of speeds and the value of each speed), but you are expected to justify your choices.\n",
    "2. Store the speeds and their corresponding impact times in a list.\n",
    "3. Iterate through your list(s) of speeds and impact times and print the values in the follow way:\n",
    "    - \"`For an initial speed of < v > m/s, the impact time will be < t > seconds.`\" where < v > is the speed and < t > is the time\n",
    "    \n",
    "**Write your code in the cell below (feel free to break it up into multiple cells if you prefer).**"
   ]
  },
  {
   "cell_type": "code",
   "execution_count": 2,
   "metadata": {},
   "outputs": [
    {
     "name": "stdout",
     "output_type": "stream",
     "text": [
      "[2.136344744040189, 3.1264992950630486, 4.1310347149501006, 5.141732039263595, 6.155602781081478]\n"
     ]
    }
   ],
   "source": [
    "# Put your code for computing impact times here!\n",
    "import math\n",
    "\n",
    "# initial speed range from 10 m/s to 30 m/s with a step of 5 m/s\n",
    "speeds = range(10, 35, 5)\n",
    "# print(speeds[2])\n",
    "\n",
    "\n",
    "\n",
    "h = 1.75  # height in meters\n",
    "g = 9.8  # acceleration due to gravity in m/s^2\n",
    "\n",
    "\n",
    "\n",
    "\n",
    "\n",
    "impact_times1=[];\n",
    "impact_times2=[];\n",
    "for i in range(len(speeds)):\n",
    "    \n",
    "    impact_times1.append((-speeds[i]+math.sqrt(speeds[i]**2 +4*(0.5*g)))/-g)\n",
    "    impact_times2.append((-speeds[i]-math.sqrt(speeds[i]**2 +4*(0.5*g)))/-g)\n",
    "    \n",
    "    \n",
    "    \n",
    "\n",
    "print(impact_times2)\n"
   ]
  },
  {
   "cell_type": "markdown",
   "metadata": {},
   "source": [
    "**Question 1**: What did you choose as your slowest speed and why? What is the corresponding impact time for this speed?"
   ]
  },
  {
   "cell_type": "markdown",
   "metadata": {},
   "source": [
    " "
   ]
  },
  {
   "cell_type": "markdown",
   "metadata": {},
   "source": [
    "**Question 2**: What did you choose as your fastest speed and why? What is the corresponding impact time for this speed?"
   ]
  },
  {
   "cell_type": "markdown",
   "metadata": {},
   "source": []
  },
  {
   "cell_type": "markdown",
   "metadata": {},
   "source": [
    "**Question 3**: What was the hardest part about computing the impact times for this problem?"
   ]
  },
  {
   "cell_type": "markdown",
   "metadata": {},
   "source": []
  },
  {
   "cell_type": "markdown",
   "metadata": {},
   "source": [
    "---\n",
    "### &#128721; STOP\n",
    "Check in with an instructor before you move on!\n",
    "\n",
    "---"
   ]
  },
  {
   "cell_type": "markdown",
   "metadata": {},
   "source": [
    "---\n",
    "## Part 3: Finding the maximum height\n",
    "\n",
    "Now that you have an idea how long the ball will be in the air based on how hard you throw it, what if you also want to find out how high the ball will travel in the air before falling towards the ground? Similarly to Part 1, you should write some __pseudo-code__ that will act as a guide for how you _would_ determine:\n",
    "\n",
    "1. The maximum height of the ball based on its initial velocity.\n",
    "2. The time at which the ball achieves the maximum height.\n",
    "\n",
    "You should discuss how you would determine these values with your group members and make use of the whiteboards to help map out the basic ideas. Your solution might require some concepts that we haven’t yet learned — that’s OK! You just need to figure out how the code _would_ work.\n",
    "\n",
    "**Note**: You might know of a mathematical solution to these questions, but the goal for this part of the assignment is to figure out how you would solve this problem numerically -- there isn't always a clean analytical solution to some problems!\n",
    " \n",
    "**Record the details of you plan in the Markdown cell below.**"
   ]
  },
  {
   "cell_type": "markdown",
   "metadata": {},
   "source": [
    "*Put your plan details here!* "
   ]
  },
  {
   "cell_type": "markdown",
   "metadata": {},
   "source": [
    "---\n",
    "\n",
    "## Time Allowing: \n",
    "Try implementing your solution to Part 3 with code. If you get stuck on a certain concept, ask your groupmates for help"
   ]
  },
  {
   "cell_type": "code",
   "execution_count": 3,
   "metadata": {
    "scrolled": true
   },
   "outputs": [
    {
     "name": "stdout",
     "output_type": "stream",
     "text": [
      "[1.75, 26.85, 42.15, 47.65, 43.349999999999994, 29.249999999999986]\n",
      "47.65\n"
     ]
    }
   ],
   "source": [
    "# Put your code for computing the maximum height and when the ball achieves this maximum height here!\n"
   ]
  },
  {
   "cell_type": "markdown",
   "metadata": {},
   "source": [
    "## Follow-up Questions\n",
    "## اجب الاسئلة التالية"
   ]
  },
  {
   "cell_type": "code",
   "execution_count": 5,
   "metadata": {},
   "outputs": [
    {
     "data": {
      "text/html": [
       "\n",
       "<iframe \n",
       "\tsrc=\"https://docs.google.com/forms/d/e/1FAIpQLSd8hwvV5eL45ffLFN3Waz_grMp_3ruJfi8d8i3N_3zGIwsGwg/viewform?usp=header\" \n",
       "\twidth=\"800px\" \n",
       "\theight=\"600px\" \n",
       "\tframeborder=\"0\" \n",
       "\tmarginheight=\"0\" \n",
       "\tmarginwidth=\"0\">\n",
       "\tLoading...\n",
       "</iframe>\n"
      ],
      "text/plain": [
       "<IPython.core.display.HTML object>"
      ]
     },
     "execution_count": 5,
     "metadata": {},
     "output_type": "execute_result"
    }
   ],
   "source": [
    "from IPython.display import HTML\n",
    "HTML(\n",
    "\"\"\"\n",
    "<iframe \n",
    "\tsrc=\"https://docs.google.com/forms/d/e/1FAIpQLSd8hwvV5eL45ffLFN3Waz_grMp_3ruJfi8d8i3N_3zGIwsGwg/viewform?usp=header\" \n",
    "\twidth=\"800px\" \n",
    "\theight=\"600px\" \n",
    "\tframeborder=\"0\" \n",
    "\tmarginheight=\"0\" \n",
    "\tmarginwidth=\"0\">\n",
    "\tLoading...\n",
    "</iframe>\n",
    "\"\"\"\n",
    ")"
   ]
  },
  {
   "cell_type": "markdown",
   "metadata": {},
   "source": [
    "---\n"
   ]
  },
  {
   "cell_type": "markdown",
   "metadata": {},
   "source": [
    "## Congratulations, you're done!\n",
    "\n"
   ]
  },
  {
   "cell_type": "markdown",
   "metadata": {},
   "source": [
    "&#169; "
   ]
  }
 ],
 "metadata": {
  "kernelspec": {
   "display_name": "Python [conda env:base] *",
   "language": "python",
   "name": "conda-base-py"
  },
  "language_info": {
   "codemirror_mode": {
    "name": "ipython",
    "version": 3
   },
   "file_extension": ".py",
   "mimetype": "text/x-python",
   "name": "python",
   "nbconvert_exporter": "python",
   "pygments_lexer": "ipython3",
   "version": "3.12.7"
  }
 },
 "nbformat": 4,
 "nbformat_minor": 4
}
