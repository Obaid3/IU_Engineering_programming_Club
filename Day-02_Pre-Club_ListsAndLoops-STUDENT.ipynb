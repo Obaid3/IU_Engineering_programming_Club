{
 "cells": [
  {
   "cell_type": "markdown",
   "metadata": {},
   "source": [
    "### <p style=\"text-align: right;\"> &#9989; Student Name</p>"
   ]
  },
  {
   "cell_type": "markdown",
   "metadata": {},
   "source": [
    "# Day 2: Pre-Club Assignment\n",
    "## Lists and Loops"
   ]
  },
  {
   "cell_type": "markdown",
   "metadata": {},
   "source": [
    "### Goals for Today's Pre-Class Assignment\n",
    "By the end of this assignment, you should be able to:\n",
    "* Create and manipulate lists in Python\n",
    "* Write `for` loops and `while` loops in Python\n",
    "* Combine lists and loops to compute new values.\n",
    "\n",
    "### Assignment instructions\n",
    "\n"
   ]
  },
  {
   "cell_type": "markdown",
   "metadata": {},
   "source": [
    "---\n",
    "### Some possibly useful links and information\n",
    "\n",
    "Before we dive into the pre-class assignment, here are some links that might be useful if you're looking to learn some extra iPython (which is what the Jupyter Notebooks are built on) and Jupyter Notebook skills:  \n",
    "\n",
    "* [IPython tutorial](http://ipython.readthedocs.org/en/stable/interactive/tutorial.html) -- this contains some *very* useful suggestions about IPython commands that allow you to get help on Python, figure out what specific variables or objects do, and many other things.\n",
    "\n",
    "* [Jupyter notebook tips and tricks](http://blog.dominodatalab.com/lesser-known-ways-of-using-notebooks/) -- some clever things you can do with Jupyter notebooks\n",
    "\n",
    "* [Another Jupyter notebook tip page](http://jupyter.cs.brynmawr.edu/hub/dblank/public/Jupyter%20Magics.ipynb)\n",
    "\n",
    "Also, if you want to start using keyboard shortcuts in Jupyter Notebooks to make your life easier and more efficient, **try pressing `ESC` to enter command mode and then press `H`**. This will bring up the list of the keyboard shortcuts. Some of the useful shortcuts include `A` and `B`, which insert cells into the notebook \"above\" and \"below\" the current cell, respectively. `X` is also useful for cutting out cells that you don't need."
   ]
  },
  {
   "cell_type": "markdown",
   "metadata": {},
   "source": [
    "## Part 1: Lists in Python\n",
    "\n",
    "Once very useful data type/container in Python is the \"list\". A list is considered a \"mutable\" Python data type which means that once you create a list, you are free to change the contents of that list. Lists are also handy because they can store pretty much any other type of python variable within them -- include other lists! Creating lists of lists can actually be extremely handy at times. The following table should serve as a simple reference guide for lists. Note that you might have to scroll side to side to see the whole table."
   ]
  },
  {
   "cell_type": "markdown",
   "metadata": {},
   "source": [
    "\n",
    "|Container Type|Mutable or Immutable|Initialization *Without* Values|Initializtion *With* Values|Adding Values to Container|Removing Values from Container|Modifying Values|Access Method        |Notable Operations and Additional Information|\n",
    "|:----------|:----------|:----------|:----------|:----------|:----------|:----------|:----------|:----------|\n",
    "|**List** $\\hspace{0.5in}$| Mutable $\\hspace{0.5in}$|<ul><li>`a=list()` </li><li> `a=[]` </li></ul> $\\hspace{1.0in}$| `a=['1', '2', '3']` $\\hspace{1.5in}$|  <ul><li>` list.append(item) #Adds item to the end of the list` </li><li> ` list.insert(index, item) #Adds item to the specified index in the list`</li></ul> $\\hspace{2.5in}$|`list.remove(item) #removes the first instance of 'item' from the list. If there is not such an element, this will cause an error` $\\hspace{2.0in}$|`>>> a[0] = 'cat'` <br> `>>> a` <br> `['cat', '2', '3']` $\\hspace{1.5in}$|Access by index: <br> `>>> a[0]` <br> `1` $\\hspace{1.2in}$|See webpage at [here](http://www.linuxtopia.org/online_books/programming_books/python_programming/python_ch14s07.html) for some helpful methods when dealing with lists. $\\hspace{1.5in}$|"
   ]
  },
  {
   "cell_type": "markdown",
   "metadata": {},
   "source": [
    "**Now**, watch the following video about lists."
   ]
  },
  {
   "cell_type": "code",
   "execution_count": 1,
   "metadata": {},
   "outputs": [
    {
     "data": {
      "text/html": [
       "\n",
       "        <iframe\n",
       "            width=\"640\"\n",
       "            height=\"360\"\n",
       "            src=\"https://www.youtube.com/embed/\"\n",
       "            frameborder=\"0\"\n",
       "            allowfullscreen\n",
       "            \n",
       "        ></iframe>\n",
       "        "
      ],
      "text/plain": [
       "<IPython.lib.display.YouTubeVideo at 0x1c0ca987c90>"
      ]
     },
     "execution_count": 1,
     "metadata": {},
     "output_type": "execute_result"
    }
   ],
   "source": [
    "# Imports the functionality that we need to display YouTube videos in a Jupyter notebook.  \n",
    "# You need to run this cell before you run ANY of the YouTube videos.\n",
    "from IPython.display import YouTubeVideo\n",
    "\n",
    "# Watch this video to learn about the list type in Python \n",
    "# YouTubeVideo(\"\",width=640,height=360)"
   ]
  },
  {
   "cell_type": "markdown",
   "metadata": {},
   "source": [
    "**Question 1:**  In the cell below, create a list that contains, in this order:\n",
    "\n",
    "   1. Your first name as a string\n",
    "   2. Your age as a floating-point number in years. Include one decimal point of precision and a comment about how you calcuated the decimal value.\n",
    "   3. The room number of this room ( the integer part only) \n",
    "\n",
    "* Print this list out.  \n",
    "* Replace your first name in the list with your last name, and replace your age with the current year as an integer.\n",
    "* Append one or more new variables (anything you like), print out the length of the list using the len() function, and then print out the entire list again."
   ]
  },
  {
   "cell_type": "code",
   "execution_count": 2,
   "metadata": {},
   "outputs": [
    {
     "ename": "NameError",
     "evalue": "name 'nameFirst' is not defined",
     "output_type": "error",
     "traceback": [
      "\u001b[1;31m---------------------------------------------------------------------------\u001b[0m",
      "\u001b[1;31mNameError\u001b[0m                                 Traceback (most recent call last)",
      "Cell \u001b[1;32mIn[2], line 7\u001b[0m\n\u001b[0;32m      1\u001b[0m \u001b[38;5;66;03m# Write your program here, using multiple cells if necessary. Add extra cells using\u001b[39;00m\n\u001b[0;32m      2\u001b[0m \u001b[38;5;66;03m# the 'Cell' menu at the top of this notebook or by using the keyboard shortcut. Don't forget that you can execute \u001b[39;00m\n\u001b[0;32m      3\u001b[0m \u001b[38;5;66;03m# your program by holding down 'shift' and pressing 'enter' in each cell!\u001b[39;00m\n\u001b[1;32m----> 7\u001b[0m \u001b[38;5;28mprint\u001b[39m(nameFirst)\n\u001b[0;32m      8\u001b[0m \u001b[38;5;28mtype\u001b[39m(nameFirst)\n\u001b[0;32m     11\u001b[0m \u001b[38;5;28mprint\u001b[39m(age)\n",
      "\u001b[1;31mNameError\u001b[0m: name 'nameFirst' is not defined"
     ]
    }
   ],
   "source": [
    "# Write your program here, using multiple cells if necessary. Add extra cells using\n",
    "# the 'Cell' menu at the top of this notebook or by using the keyboard shortcut. Don't forget that you can execute \n",
    "# your program by holding down 'shift' and pressing 'enter' in each cell!\n",
    "\n",
    "\n",
    "\n",
    "print(nameFirst)\n",
    "type(nameFirst)\n",
    "\n",
    "\n",
    "print(age)\n",
    "type(age)\n",
    "\n",
    "\n",
    "\n",
    "type(roomNumber)\n",
    "\n",
    "list=[nameFirst, age, roomNumber]\n",
    "len(list)\n",
    "\n",
    "list.append(4)\n",
    "len(list)"
   ]
  },
  {
   "cell_type": "markdown",
   "metadata": {},
   "source": [
    "---\n",
    "## Part 2: For loops and While loops\n",
    "\n",
    "### Part 2.1: For loops\n",
    "\n",
    "Watch the following video, which introduces the concepts of <code>for</code> loops and how they work in Python. After you watch the video, answer the questions below."
   ]
  },
  {
   "cell_type": "code",
   "execution_count": 3,
   "metadata": {},
   "outputs": [
    {
     "data": {
      "text/html": [
       "\n",
       "        <iframe\n",
       "            width=\"640\"\n",
       "            height=\"360\"\n",
       "            src=\"https://www.youtube.com/embed/?end=629\"\n",
       "            frameborder=\"0\"\n",
       "            allowfullscreen\n",
       "            \n",
       "        ></iframe>\n",
       "        "
      ],
      "text/plain": [
       "<IPython.lib.display.YouTubeVideo at 0x1c0cb029f10>"
      ]
     },
     "execution_count": 3,
     "metadata": {},
     "output_type": "execute_result"
    }
   ],
   "source": [
    "# Video on \"for\" loops in Python\n",
    "# Make sure to watch it in full-screen mode!\n",
    "YouTubeVideo(\"\",width=640,height=360,end=629)"
   ]
  },
  {
   "cell_type": "markdown",
   "metadata": {},
   "source": [
    "**Question 2**: Write a for loop that prints the numbers 0 through 9 in the cell below."
   ]
  },
  {
   "cell_type": "code",
   "execution_count": 7,
   "metadata": {},
   "outputs": [
    {
     "name": "stdout",
     "output_type": "stream",
     "text": [
      "0\n",
      "1\n",
      "2\n",
      "3\n",
      "4\n",
      "5\n",
      "6\n",
      "7\n",
      "8\n",
      "9\n"
     ]
    }
   ],
   "source": [
    "# put your code here!\n",
    "\n"
   ]
  },
  {
   "cell_type": "markdown",
   "metadata": {},
   "source": [
    "**Question 3**: Write a for loop that iterates through the items in the \"IUEP_grab_bag\" list provided in the cell below and prints each item."
   ]
  },
  {
   "cell_type": "code",
   "execution_count": 3,
   "metadata": {},
   "outputs": [
    {
     "name": "stdout",
     "output_type": "stream",
     "text": [
      "Egr. Obaid\n",
      "29\n",
      "Programming club\n",
      "coding\n",
      "python\n",
      "pre-class\n",
      "Day\n",
      "3\n",
      "ECE\n"
     ]
    }
   ],
   "source": [
    "IUEP_grab_bag = [\"Egr. Obaid\", 29, \"Programming club\", \"coding\",\"python\", \"pre-class\", \"Day\", 3, \"ECE\"]\n",
    "\n",
    "# put your code here!\n",
    "\n",
    "\n"
   ]
  },
  {
   "cell_type": "markdown",
   "metadata": {},
   "source": [
    "### Part 2.2: While loops\n",
    "\n",
    "Watch the following video clip, which introduces the concept of <code>while</code> loops in Python. After you watch the video, answer the questions below.\n",
    "\n",
    "**Note**: Ignore the little bit at the end of the video clip that mentions numpy arrays and the <code>nditer</code> function."
   ]
  },
  {
   "cell_type": "code",
   "execution_count": 13,
   "metadata": {},
   "outputs": [
    {
     "data": {
      "image/jpeg": "[encoded data removed]",
      "text/html": [
       "\n",
       "        <iframe\n",
       "            width=\"640\"\n",
       "            height=\"360\"\n",
       "            src=\"https://www.youtube.com/embed/VnTN5sFIPD0?start=823\"\n",
       "            frameborder=\"0\"\n",
       "            allowfullscreen\n",
       "            \n",
       "        ></iframe>\n",
       "        "
      ],
      "text/plain": [
       "<IPython.lib.display.YouTubeVideo at 0x23bca7f11c0>"
      ]
     },
     "execution_count": 13,
     "metadata": {},
     "output_type": "execute_result"
    }
   ],
   "source": [
    "# Video on \"while\" loops in Python\n",
    "# Make sure to watch it in full-screen mode!\n",
    "# YouTubeVideo(\"\",width=640,height=360,start=823)"
   ]
  },
  {
   "cell_type": "markdown",
   "metadata": {},
   "source": [
    "**Question 4**: Write a <code>while</code> loop that starts with a value of \"<code>x = 2</code>\", multiples <code>x</code> by 2 for each iteration, prints the value of <code>x</code>, and runs until <code>x</code> is greater than 4096."
   ]
  },
  {
   "cell_type": "code",
   "execution_count": 9,
   "metadata": {},
   "outputs": [
    {
     "name": "stdout",
     "output_type": "stream",
     "text": [
      "2\n",
      "4\n",
      "8\n",
      "16\n",
      "32\n",
      "64\n",
      "128\n",
      "256\n",
      "512\n",
      "1024\n",
      "2048\n"
     ]
    }
   ],
   "source": [
    "# put your code here!\n",
    "\n"
   ]
  },
  {
   "cell_type": "markdown",
   "metadata": {},
   "source": [
    "---\n",
    "## Part 3: Combining lists and loops.\n",
    "\n",
    "**Question 5**: Now we want you to try to use various components of everything you just learned to calculate some values. The cell below includes two lists of values, `x` and `y`. Your task is to initialize two new empty lists, `xsquared` and `ycubed`, iterate through the lists using loops to compute $x^2$ and $y^3$, and store these values in your new lists. Once you've computed all the values, print out the results. **Yes**, this might seem a bit complicated -- that's totally expected. After all, you're still learning to write code. If you find yourself spending too much time to figure this out,make sure to use telegram or ask your fellow club members. Making sure that you spend time on your own trying to work through pre-class activities like this one are important for making your time in class as productive as possible.\n",
    "\n",
    "**Hint**: If you take a look at the table above that contains information about lists, you see that it mentions adding values to a list using `.append()`, this is what you'll want to use to fill your `xsquared` and `ycubed` lists. Also, remember that we use `**` to compute powers in Python. So \"2 cubed\" would be `2**3`."
   ]
  },
  {
   "cell_type": "code",
   "execution_count": 2,
   "metadata": {},
   "outputs": [
    {
     "name": "stdout",
     "output_type": "stream",
     "text": [
      "[4, 16, 36, 64, 100, 144, 196, 256, 324]\n",
      "[1000, 561.515625, 421.875, 343, 274.625, 343, 421.875, 561.515625, 1000]\n"
     ]
    }
   ],
   "source": [
    "x = [2,4,6,8,10,12,14,16,18]\n",
    "y = [10,8.25,7.5,7,6.5,7,7.5,8.25,10]\n",
    "\n",
    "# Put your commands for intializing your new lists below this comment\n",
    "xsquared = []\n",
    "ycubed = []\n",
    "\n",
    "\n",
    "# Put your loop(s) for computing x-squared and y-cubed below these comments.\n",
    "# You'll be using .append() to add new values to the lists you just initialized.\n",
    "\n",
    "\n",
    "\n",
    "print(xsquared)\n",
    "print(ycubed)"
   ]
  },
  {
   "cell_type": "markdown",
   "metadata": {},
   "source": [
    "---\n",
    "## Follow-up Questions\n",
    "\n",
    "Copy and paste the following questions into the appropriate box in the assignment survey include below and answer them there. (Note: You'll have to fill out the section number and the assignment number and go to the \"NEXT\" section of the survey to paste in these questions.)\n",
    "\n",
    "1. If you had a list variable called `directory`, how you would access the fourth element in this list?\n",
    "\n",
    "2. Explain when you might use a `for` loop versus a `while` loop.\n"
   ]
  },
  {
   "cell_type": "markdown",
   "metadata": {},
   "source": [
    "Question 1: put your  answer here "
   ]
  },
  {
   "cell_type": "markdown",
   "metadata": {},
   "source": [
    "Question 2: put your  answer here "
   ]
  },
  {
   "cell_type": "markdown",
   "metadata": {},
   "source": [
    "---\n",
    "## Assignment wrap-up\n",
    "\n"
   ]
  },
  {
   "cell_type": "code",
   "execution_count": 11,
   "metadata": {},
   "outputs": [
    {
     "data": {
      "text/html": [
       "\n",
       "<iframe \n",
       "\tsrc=\"https://docs.google.com/forms/d/e/1FAIpQLSd8hwvV5eL45ffLFN3Waz_grMp_3ruJfi8d8i3N_3zGIwsGwg/viewform?usp=header\" \n",
       "\twidth=\"800px\" \n",
       "\theight=\"600px\" \n",
       "\tframeborder=\"0\" \n",
       "\tmarginheight=\"0\" \n",
       "\tmarginwidth=\"0\">\n",
       "\tLoading...\n",
       "</iframe>\n"
      ],
      "text/plain": [
       "<IPython.core.display.HTML object>"
      ]
     },
     "execution_count": 11,
     "metadata": {},
     "output_type": "execute_result"
    }
   ],
   "source": []
  },
  {
   "cell_type": "markdown",
   "metadata": {},
   "source": [
    "### Congratulations, you're done!\n",
    "\n",
    "\n",
    "See you in Next week!"
   ]
  },
  {
   "cell_type": "markdown",
   "metadata": {},
   "source": []
  }
 ],
 "metadata": {
  "kernelspec": {
   "display_name": "Python [conda env:base] *",
   "language": "python",
   "name": "conda-base-py"
  },
  "language_info": {
   "codemirror_mode": {
    "name": "ipython",
    "version": 3
   },
   "file_extension": ".py",
   "mimetype": "text/x-python",
   "name": "python",
   "nbconvert_exporter": "python",
   "pygments_lexer": "ipython3",
   "version": "3.11.5"
  }
 },
 "nbformat": 4,
 "nbformat_minor": 4
}
